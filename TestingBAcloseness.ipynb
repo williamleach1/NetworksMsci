{
  "cells": [
    {
      "cell_type": "code",
      "execution_count": 6,
      "metadata": {
        "colab": {
          "base_uri": "https://localhost:8080/",
          "height": 689
        },
        "id": "4ipzAaRvW_NB",
        "outputId": "a7f7af6b-0074-4b21-d940-743e67f52306"
      },
      "outputs": [
        {
          "name": "stdout",
          "output_type": "stream",
          "text": [
            "mean degree is  5.997\n",
            "Networkx Time =  0.033290863037109375\n",
            "my Code Time =  0.04717373847961426\n",
            "iGraph Time =  0.0037615299224853516\n",
            "graph-tool Time =  0.0070171356201171875\n",
            "4000 4000\n",
            "4000 4000\n",
            "Networkx closeness time:  19.182042121887207\n",
            "iGraph closeness time:  0.8461849689483643\n",
            "graph-tool closeness time:  1.0825588703155518\n",
            "True\n",
            "4\n"
          ]
        }
      ],
      "source": [
        "import networkx as nx\n",
        "import numpy as np\n",
        "import matplotlib.pyplot as plt\n",
        "import random\n",
        "from itertools import combinations\n",
        "import os\n",
        "import time\n",
        "from scipy import stats\n",
        "from tqdm import tqdm\n",
        "import scipy as sp\n",
        "from igraph import Graph\n",
        "import pandas as pd\n",
        "import graph_tool as gt\n",
        "\n",
        "\n",
        "params = {\n",
        "'font.size' : 16,\n",
        "'axes.labelsize':16,\n",
        "'legend.fontsize': 14,\n",
        "'xtick.labelsize': 14,\n",
        "'ytick.labelsize': 14,\n",
        "}\n",
        "\n",
        "plt.rcParams.update(params)\n",
        "\n",
        "\n",
        "\n",
        "def BA_me(m_,N_):\n",
        "    nodes = [x for x in range(1,m_+1)]\n",
        "    edges = list(combinations(nodes,2))\n",
        "    t = 0 \n",
        "    \n",
        "    n = m_\n",
        "    \n",
        "    while len(nodes) < N_:\n",
        "        new_node = n + 1\n",
        "        nodes.append(new_node)\n",
        "        not_allowed = [new_node]\n",
        "        i=0\n",
        "        while i < m_:\n",
        "            edge_choice = random.choice(edges)\n",
        "            node_choice = edge_choice[random.choice([0,1])]\n",
        "            if node_choice in not_allowed:\n",
        "                #print('Connection from ', new_node,' to ', node_choice,'\\nnot allowed.')\n",
        "                continue\n",
        "            else:\n",
        "                not_allowed.append(node_choice)\n",
        "                edges.append((new_node,node_choice))\n",
        "                i+=1\n",
        "        n+=1\n",
        "        t+=1\n",
        "    nodes, degrees = np.unique(edges,return_counts=True)\n",
        "    print('mean degree is ',np.mean(degrees))\n",
        "    return nodes, edges#, degrees\n",
        "\n",
        "def BA_netx(m_,N_):\n",
        "    G = nx.barabasi_albert_graph(N_,m_)\n",
        "    return G\n",
        "\n",
        "def BA_ig(m_,N_):\n",
        "    return Graph.Barabasi(N_,m_)\n",
        "\n",
        "m, N = 3, 4000\n",
        "\n",
        "start_me = time.time()\n",
        "n,e = BA_me(m,N)\n",
        "end_me = time.time()\n",
        "\n",
        "start_netx = time.time()\n",
        "G = BA_netx(m,N)\n",
        "end_netx = time.time()\n",
        "\n",
        "start_igraph = time.time()\n",
        "G1 = BA_ig(m,N)\n",
        "end_igraph = time.time()\n",
        "\n",
        "start_gt = time.time()\n",
        "G2 = gt.generation.price_network(N,m,directed=False)\n",
        "end_gt = time.time()\n",
        "\n",
        "\n",
        "\n",
        "m,N = 3, 4000\n",
        "\n",
        "print(\"Networkx Time = \",end_netx-start_netx)\n",
        "print(\"my Code Time = \", end_me-start_me)\n",
        "print(\"iGraph Time = \", end_igraph-start_igraph)\n",
        "print(\"graph-tool Time = \", end_gt-start_gt)\n",
        "\n",
        "start_close_netx = time.time()\n",
        "#closeness = [close for (node,close) in kx.closeness_centrality(G)]\n",
        "degrees = [val for (node, val) in G.degree()]\n",
        "unique_degrees = np.unique(degrees)\n",
        "inv_close = 1/np.asarray(list(nx.closeness_centrality(G).values()))\n",
        "#print(len(degrees),len(inv_close))\n",
        "end_close_netx = time.time()\n",
        "\n",
        "\n",
        "start_close_igraph = time.time()\n",
        "degrees2 = G1.degree()\n",
        "inv_close2 = 1/np.asarray(G1.closeness())\n",
        "print(len(degrees2),len(inv_close2))\n",
        "end_close_igraph = time.time()\n",
        "\n",
        "start_close_gt = time.time()\n",
        "degrees3 = G2.get_total_degrees(G2.get_vertices())\n",
        "inv_close3 = gt.centrality.closeness(G2).get_array()\n",
        "print(len(degrees3),len(inv_close3))\n",
        "end_close_gt = time.time()\n",
        "\n",
        "\n",
        "print(\"Networkx closeness time: \",end_close_netx-start_close_netx)\n",
        "print(\"iGraph closeness time: \",end_close_igraph-start_close_igraph)\n",
        "print(\"graph-tool closeness time: \",end_close_gt-start_close_gt)\n",
        "print(gt.openmp_enabled())\n",
        "print(gt.openmp_get_num_threads())"
      ]
    },
    {
      "cell_type": "code",
      "execution_count": 3,
      "metadata": {
        "colab": {
          "base_uri": "https://localhost:8080/",
          "height": 630
        },
        "id": "NOfhRHJaeJtk",
        "outputId": "1a07856f-899e-4f66-a745-9b7306a741ea"
      },
      "outputs": [
        {
          "name": "stderr",
          "output_type": "stream",
          "text": [
            "/tmp/ipykernel_27880/3972299435.py:14: FutureWarning: The frame.append method is deprecated and will be removed from pandas in a future version. Use pandas.concat instead.\n",
            "  df = df.append(df_new,ignore_index=True)\n"
          ]
        },
        {
          "name": "stdout",
          "output_type": "stream",
          "text": [
            "mean k is  13.571428571428571\n"
          ]
        },
        {
          "data": {
            "image/png": "[encoded data removed]",
            "text/plain": [
              "<Figure size 640x480 with 1 Axes>"
            ]
          },
          "metadata": {},
          "output_type": "display_data"
        },
        {
          "data": {
            "image/png": "[encoded data removed]",
            "text/plain": [
              "<Figure size 640x480 with 1 Axes>"
            ]
          },
          "metadata": {},
          "output_type": "display_data"
        },
        {
          "name": "stdout",
          "output_type": "stream",
          "text": [
            "[[nan nan]\n",
            " [nan  1.]]\n"
          ]
        },
        {
          "ename": "NameError",
          "evalue": "name 'opt' is not defined",
          "output_type": "error",
          "traceback": [
            "\u001b[0;31m---------------------------------------------------------------------------\u001b[0m",
            "\u001b[0;31mNameError\u001b[0m                                 Traceback (most recent call last)",
            "Cell \u001b[0;32mIn [3], line 47\u001b[0m\n\u001b[1;32m     43\u001b[0m   \u001b[39mreturn\u001b[39;00m \u001b[39m-\u001b[39ma\u001b[39m*\u001b[39mnp\u001b[39m.\u001b[39mlog(k)\u001b[39m+\u001b[39mb\n\u001b[1;32m     45\u001b[0m \u001b[39m#opt, pcov = optimize.curve_fit(analytic,kss,inv_cs,p0=[0.3,3.5])\u001b[39;00m\n\u001b[0;32m---> 47\u001b[0m \u001b[39mprint\u001b[39m(opt)\n\u001b[1;32m     48\u001b[0m \u001b[39mprint\u001b[39m(pcov)\n",
            "\u001b[0;31mNameError\u001b[0m: name 'opt' is not defined"
          ]
        }
      ],
      "source": [
        "from scipy import stats\n",
        "from scipy import optimize\n",
        "\n",
        "def BA_closeVSdeg(m_,N_, its, plot=False):\n",
        "  df = pd.DataFrame({\"k\":[],\"c\":[]})\n",
        "  for i in range(its):\n",
        "    G = Graph.Erdos_Renyi(n=1000,p=0.01)\n",
        "    degrees = G.degree()\n",
        "    #print(np.mean(degrees))\n",
        "    close = np.asarray(G.closeness())\n",
        "    #print(len(degrees),len(inv_close))\n",
        "    df_new = pd.DataFrame({\"k\":degrees,\"c\":close})\n",
        "    #print(df_new.head())\n",
        "    df = df.append(df_new,ignore_index=True)\n",
        "  #print(df.head())\n",
        "  df = df.groupby(\"k\").agg({\"c\":['mean','std']})\n",
        "  df = df.xs('c', axis=1, drop_level=True)\n",
        "  df = df.reset_index('k')\n",
        "  df = df.rename(columns={\"mean\":\"mean c\",\"std\":\"std c\"})\n",
        "\n",
        "  ks = df.loc[:,\"k\"].tolist()\n",
        "  print('mean k is ' ,np.mean(ks)) \n",
        "  cs = np.asarray(df.loc[:,\"mean c\"].tolist())\n",
        "  cs_err = np.asarray(df.loc[:,\"std c\"].tolist())\n",
        "  plt.plot(ks,cs_err,'x')\n",
        "  inv_c = 1/cs\n",
        "  inv_c_err = cs_err/np.square(cs)\n",
        "  \n",
        "  if plot:\n",
        "    plt.figure()\n",
        "    plt.errorbar(ks,inv_c,yerr=inv_c_err,fmt='none',ecolor='black',capsize=2)\n",
        "    plt.plot(ks,inv_c,'r.')\n",
        "    plt.xscale(\"log\")\n",
        "    plt.show()  \n",
        "  return ks, inv_c, inv_c_err, cs\n",
        "\n",
        "kss, inv_cs, err, cs = BA_closeVSdeg(5,4000,100,True)\n",
        "\n",
        "pc= np.corrcoef(cs, kss)\n",
        "print(pc)\n",
        "\n",
        "def analytic(k,a,b):\n",
        "  return -a*np.log(k)+b\n",
        "\n",
        "#opt, pcov = optimize.curve_fit(analytic,kss,inv_cs,p0=[0.3,3.5])\n",
        "\n",
        "print(opt)\n",
        "print(pcov)\n",
        "#print(inv_cs)\n",
        "#print(err)"
      ]
    }
  ],
  "metadata": {
    "colab": {
      "authorship_tag": "ABX9TyO5Qus1kcJhAqLOhsDKluJ1",
      "collapsed_sections": [],
      "include_colab_link": true,
      "provenance": []
    },
    "kernelspec": {
      "display_name": "Python 3",
      "language": "python",
      "name": "python3"
    },
    "language_info": {
      "codemirror_mode": {
        "name": "ipython",
        "version": 3
      },
      "file_extension": ".py",
      "mimetype": "text/x-python",
      "name": "python",
      "nbconvert_exporter": "python",
      "pygments_lexer": "ipython3",
      "version": "3.8.10"
    },
    "vscode": {
      "interpreter": {
        "hash": "916dbcbb3f70747c44a77c7bcd40155683ae19c65e1c03b4aa3499c5328201f1"
      }
    }
  },
  "nbformat": 4,
  "nbformat_minor": 0
}
